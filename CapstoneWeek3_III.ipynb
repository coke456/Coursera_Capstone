{
 "cells": [
  {
   "cell_type": "markdown",
   "metadata": {},
   "source": [
    "# Segmenting and Clustering Neighborhoods in Toronto"
   ]
  },
  {
   "cell_type": "code",
   "execution_count": 3,
   "metadata": {},
   "outputs": [],
   "source": [
    "import pandas as pd\n",
    "import requests\n",
    "import lxml.html as lh\n",
    "from urllib.request import urlopen\n",
    "from bs4 import BeautifulSoup"
   ]
  },
  {
   "cell_type": "markdown",
   "metadata": {},
   "source": [
    "Download the url content from wikipedia"
   ]
  },
  {
   "cell_type": "code",
   "execution_count": 4,
   "metadata": {},
   "outputs": [],
   "source": [
    "url = 'https://en.wikipedia.org/wiki/List_of_postal_codes_of_Canada:_M'\n",
    "#page = requests.get(url)\n",
    "#Store the contents of the website under doc\n",
    "html = urlopen(url)\n",
    "soup = BeautifulSoup(html, 'lxml')"
   ]
  },
  {
   "cell_type": "markdown",
   "metadata": {},
   "source": [
    "Use BeautifulSoup library to get the table contents"
   ]
  },
  {
   "cell_type": "code",
   "execution_count": 5,
   "metadata": {},
   "outputs": [],
   "source": [
    "import re\n",
    "# Get rows by looking for tr\n",
    "rows = soup.find_all('tr')\n",
    "\n",
    "# Get cells\n",
    "for row in rows:\n",
    "    row_td = row.find_all('td')\n",
    "    \n",
    "str_cells = str(row_td)\n",
    "cleantext = BeautifulSoup(str_cells, \"lxml\").get_text()\n",
    "\n",
    "list_rows = []\n",
    "for row in rows:\n",
    "    cells = row.find_all('td')\n",
    "    str_cells = str(cells)\n",
    "    clean = re.compile('<.*?>')\n",
    "    clean2 = (re.sub(clean, '',str_cells))\n",
    "    list_rows.append(clean2)"
   ]
  },
  {
   "cell_type": "markdown",
   "metadata": {},
   "source": [
    "Load the table data into a pandas dataframe"
   ]
  },
  {
   "cell_type": "code",
   "execution_count": 6,
   "metadata": {},
   "outputs": [],
   "source": [
    "# Create a data frame with the \"list_rows\"\n",
    "df = pd.DataFrame(list_rows) \n",
    "# Expand in cells separated by commas\n",
    "df = df[0].str.split(',', expand=True)\n",
    "# Remove '[', ']' and '\\n' characters\n",
    "df[0] = df[0].str.strip('[')\n",
    "df[2] = df[2].str.strip(']')\n",
    "df[2] = df[2].str.replace('\\n','')"
   ]
  },
  {
   "cell_type": "markdown",
   "metadata": {},
   "source": [
    "Get Table Header by looking for the 'th' tag"
   ]
  },
  {
   "cell_type": "code",
   "execution_count": 7,
   "metadata": {},
   "outputs": [],
   "source": [
    "# Get table header\n",
    "col_labels = soup.find_all('th')\n",
    "all_header = []\n",
    "col_str = str(col_labels)\n",
    "cleantext2 = BeautifulSoup(col_str, \"lxml\").get_text()\n",
    "all_header.append(cleantext2)"
   ]
  },
  {
   "cell_type": "code",
   "execution_count": 8,
   "metadata": {},
   "outputs": [],
   "source": [
    "# Add headers to a new dataframe\n",
    "df2 = pd.DataFrame(all_header)\n",
    "# Clean headers DF\n",
    "df2 = df2[0].str.split(',', expand=True)\n",
    "df2 = df2.drop([3],axis=1)\n",
    "df2[0] = df2[0].str.strip('[')\n",
    "df2[2] = df2[2].str.replace('\\n','')"
   ]
  },
  {
   "cell_type": "code",
   "execution_count": 9,
   "metadata": {},
   "outputs": [],
   "source": [
    "# Concatenate header df (df2) and contents df (df)\n",
    "frames = [df2, df]\n",
    "df = pd.concat(frames)\n",
    "# set firs row as columns header\n",
    "df = df.rename(columns=df.iloc[0])\n",
    "# get only with the first three columns\n",
    "df = df.iloc[:,0:3]\n",
    "# remove empty spaces\n",
    "df.columns = df.columns.str.lstrip()\n",
    "# remove fist row\n",
    "df=df.drop([0],axis=0)"
   ]
  },
  {
   "cell_type": "markdown",
   "metadata": {},
   "source": [
    "Remove Not assigned rows"
   ]
  },
  {
   "cell_type": "code",
   "execution_count": 10,
   "metadata": {},
   "outputs": [],
   "source": [
    "# Remove Not assigned rows\n",
    "df=df[df.Borough.str.contains('Not assigned')==False]\n",
    "# Remove empty rows\n",
    "df=df[df.Postcode.str.contains('\\n')==False]"
   ]
  },
  {
   "cell_type": "markdown",
   "metadata": {},
   "source": [
    "Combine Neighbourhood columns for rows with same postcode"
   ]
  },
  {
   "cell_type": "code",
   "execution_count": 11,
   "metadata": {},
   "outputs": [],
   "source": [
    "# Combine Neighbourhood columns for rows with same postcode\n",
    "df=df.groupby('Postcode').agg({'Borough': 'first', 'Neighbourhood': lambda x: ','.join(x)})\n",
    "df=df.reset_index()"
   ]
  },
  {
   "cell_type": "markdown",
   "metadata": {},
   "source": [
    "Set neighborhood as borough for the \"Not assigned\" neighborhoods"
   ]
  },
  {
   "cell_type": "code",
   "execution_count": 12,
   "metadata": {},
   "outputs": [],
   "source": [
    "# Set neighborhood as borough for the \"Not assigned\" neighborhoods\n",
    "df.loc[df.Neighbourhood.str.contains('Not assigned'),'Neighbourhood']=df.loc[df.Neighbourhood.str.contains('Not assigned'),'Borough']"
   ]
  },
  {
   "cell_type": "code",
   "execution_count": 13,
   "metadata": {},
   "outputs": [
    {
     "data": {
      "text/html": [
       "<div>\n",
       "<style scoped>\n",
       "    .dataframe tbody tr th:only-of-type {\n",
       "        vertical-align: middle;\n",
       "    }\n",
       "\n",
       "    .dataframe tbody tr th {\n",
       "        vertical-align: top;\n",
       "    }\n",
       "\n",
       "    .dataframe thead th {\n",
       "        text-align: right;\n",
       "    }\n",
       "</style>\n",
       "<table border=\"1\" class=\"dataframe\">\n",
       "  <thead>\n",
       "    <tr style=\"text-align: right;\">\n",
       "      <th></th>\n",
       "      <th>Postcode</th>\n",
       "      <th>Borough</th>\n",
       "      <th>Neighbourhood</th>\n",
       "    </tr>\n",
       "  </thead>\n",
       "  <tbody>\n",
       "    <tr>\n",
       "      <th>0</th>\n",
       "      <td>M1B</td>\n",
       "      <td>Scarborough</td>\n",
       "      <td>Rouge, Malvern</td>\n",
       "    </tr>\n",
       "    <tr>\n",
       "      <th>1</th>\n",
       "      <td>M1C</td>\n",
       "      <td>Scarborough</td>\n",
       "      <td>Highland Creek, Rouge Hill, Port Union</td>\n",
       "    </tr>\n",
       "    <tr>\n",
       "      <th>2</th>\n",
       "      <td>M1E</td>\n",
       "      <td>Scarborough</td>\n",
       "      <td>Guildwood, Morningside, West Hill</td>\n",
       "    </tr>\n",
       "    <tr>\n",
       "      <th>3</th>\n",
       "      <td>M1G</td>\n",
       "      <td>Scarborough</td>\n",
       "      <td>Woburn</td>\n",
       "    </tr>\n",
       "    <tr>\n",
       "      <th>4</th>\n",
       "      <td>M1H</td>\n",
       "      <td>Scarborough</td>\n",
       "      <td>Cedarbrae</td>\n",
       "    </tr>\n",
       "  </tbody>\n",
       "</table>\n",
       "</div>"
      ],
      "text/plain": [
       "  Postcode       Borough                            Neighbourhood\n",
       "0      M1B   Scarborough                           Rouge, Malvern\n",
       "1      M1C   Scarborough   Highland Creek, Rouge Hill, Port Union\n",
       "2      M1E   Scarborough        Guildwood, Morningside, West Hill\n",
       "3      M1G   Scarborough                                   Woburn\n",
       "4      M1H   Scarborough                                Cedarbrae"
      ]
     },
     "execution_count": 13,
     "metadata": {},
     "output_type": "execute_result"
    }
   ],
   "source": [
    "df.head()"
   ]
  },
  {
   "cell_type": "code",
   "execution_count": 14,
   "metadata": {},
   "outputs": [
    {
     "data": {
      "text/plain": [
       "(103, 3)"
      ]
     },
     "execution_count": 14,
     "metadata": {},
     "output_type": "execute_result"
    }
   ],
   "source": [
    "df.shape"
   ]
  },
  {
   "cell_type": "markdown",
   "metadata": {},
   "source": [
    "## Get Postal Code Coordinates"
   ]
  },
  {
   "cell_type": "markdown",
   "metadata": {},
   "source": [
    "Obtain postal code coordiantes from Geospatial_Coordinates.csv and load it into a dataframe"
   ]
  },
  {
   "cell_type": "code",
   "execution_count": 15,
   "metadata": {},
   "outputs": [],
   "source": [
    "dfLoc=pd.read_csv('Geospatial_Coordinates.csv')\n",
    "dfLoc=dfLoc.rename(columns={'Postal Code':'Postcode'})"
   ]
  },
  {
   "cell_type": "markdown",
   "metadata": {},
   "source": [
    "Merge the two dataframes in a single dataframe by 'Postcode' key"
   ]
  },
  {
   "cell_type": "code",
   "execution_count": 16,
   "metadata": {},
   "outputs": [
    {
     "data": {
      "text/html": [
       "<div>\n",
       "<style scoped>\n",
       "    .dataframe tbody tr th:only-of-type {\n",
       "        vertical-align: middle;\n",
       "    }\n",
       "\n",
       "    .dataframe tbody tr th {\n",
       "        vertical-align: top;\n",
       "    }\n",
       "\n",
       "    .dataframe thead th {\n",
       "        text-align: right;\n",
       "    }\n",
       "</style>\n",
       "<table border=\"1\" class=\"dataframe\">\n",
       "  <thead>\n",
       "    <tr style=\"text-align: right;\">\n",
       "      <th></th>\n",
       "      <th>Postcode</th>\n",
       "      <th>Borough</th>\n",
       "      <th>Neighbourhood</th>\n",
       "      <th>Latitude</th>\n",
       "      <th>Longitude</th>\n",
       "    </tr>\n",
       "  </thead>\n",
       "  <tbody>\n",
       "    <tr>\n",
       "      <th>0</th>\n",
       "      <td>M1B</td>\n",
       "      <td>Scarborough</td>\n",
       "      <td>Rouge, Malvern</td>\n",
       "      <td>43.806686</td>\n",
       "      <td>-79.194353</td>\n",
       "    </tr>\n",
       "    <tr>\n",
       "      <th>1</th>\n",
       "      <td>M1C</td>\n",
       "      <td>Scarborough</td>\n",
       "      <td>Highland Creek, Rouge Hill, Port Union</td>\n",
       "      <td>43.784535</td>\n",
       "      <td>-79.160497</td>\n",
       "    </tr>\n",
       "    <tr>\n",
       "      <th>2</th>\n",
       "      <td>M1E</td>\n",
       "      <td>Scarborough</td>\n",
       "      <td>Guildwood, Morningside, West Hill</td>\n",
       "      <td>43.763573</td>\n",
       "      <td>-79.188711</td>\n",
       "    </tr>\n",
       "    <tr>\n",
       "      <th>3</th>\n",
       "      <td>M1G</td>\n",
       "      <td>Scarborough</td>\n",
       "      <td>Woburn</td>\n",
       "      <td>43.770992</td>\n",
       "      <td>-79.216917</td>\n",
       "    </tr>\n",
       "    <tr>\n",
       "      <th>4</th>\n",
       "      <td>M1H</td>\n",
       "      <td>Scarborough</td>\n",
       "      <td>Cedarbrae</td>\n",
       "      <td>43.773136</td>\n",
       "      <td>-79.239476</td>\n",
       "    </tr>\n",
       "  </tbody>\n",
       "</table>\n",
       "</div>"
      ],
      "text/plain": [
       "  Postcode       Borough                            Neighbourhood   Latitude  \\\n",
       "0      M1B   Scarborough                           Rouge, Malvern  43.806686   \n",
       "1      M1C   Scarborough   Highland Creek, Rouge Hill, Port Union  43.784535   \n",
       "2      M1E   Scarborough        Guildwood, Morningside, West Hill  43.763573   \n",
       "3      M1G   Scarborough                                   Woburn  43.770992   \n",
       "4      M1H   Scarborough                                Cedarbrae  43.773136   \n",
       "\n",
       "   Longitude  \n",
       "0 -79.194353  \n",
       "1 -79.160497  \n",
       "2 -79.188711  \n",
       "3 -79.216917  \n",
       "4 -79.239476  "
      ]
     },
     "execution_count": 16,
     "metadata": {},
     "output_type": "execute_result"
    }
   ],
   "source": [
    "df = pd.merge(df, dfLoc, left_on='Postcode', right_on='Postcode')\n",
    "df.head()"
   ]
  },
  {
   "cell_type": "code",
   "execution_count": 17,
   "metadata": {},
   "outputs": [
    {
     "data": {
      "text/plain": [
       "(103, 5)"
      ]
     },
     "execution_count": 17,
     "metadata": {},
     "output_type": "execute_result"
    }
   ],
   "source": [
    "df.shape"
   ]
  },
  {
   "cell_type": "markdown",
   "metadata": {},
   "source": [
    "# Toronto Clustering"
   ]
  },
  {
   "cell_type": "code",
   "execution_count": 18,
   "metadata": {},
   "outputs": [],
   "source": [
    "import folium"
   ]
  },
  {
   "cell_type": "markdown",
   "metadata": {},
   "source": [
    "Get only with the Boroughs containing the word Toronto"
   ]
  },
  {
   "cell_type": "code",
   "execution_count": 22,
   "metadata": {},
   "outputs": [],
   "source": [
    "torontoData=df[df.Borough.str.contains('Toronto')]"
   ]
  },
  {
   "cell_type": "markdown",
   "metadata": {},
   "source": [
    "Create a map centered in Toronto, including a circle with the location of each Postal Code and a label with the name of the neighbourhood"
   ]
  },
  {
   "cell_type": "code",
   "execution_count": 28,
   "metadata": {},
   "outputs": [
    {
     "data": {
      "text/html": [
       "<div style=\"width:100%;\"><div style=\"position:relative;width:100%;height:0;padding-bottom:60%;\"><iframe src=\"data:text/html;charset=utf-8;base64,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\" style=\"position:absolute;width:100%;height:100%;left:0;top:0;border:none !important;\" allowfullscreen webkitallowfullscreen mozallowfullscreen></iframe></div></div>"
      ],
      "text/plain": [
       "<folium.folium.Map at 0xa891470>"
      ]
     },
     "execution_count": 28,
     "metadata": {},
     "output_type": "execute_result"
    }
   ],
   "source": [
    "# create map of Toronto using latitude and longitude values\n",
    "map_toronto = folium.Map(location=[43.6532, -79.3832], zoom_start=11)\n",
    "\n",
    "# add markers to map\n",
    "for lat, lng, label in zip(torontoData['Latitude'], torontoData['Longitude'], torontoData['Neighbourhood']):\n",
    "    label = folium.Popup(label, parse_html=True)\n",
    "    folium.CircleMarker(\n",
    "        [lat, lng],\n",
    "        radius=5,\n",
    "        popup=label,\n",
    "        color='blue',\n",
    "        fill=True,\n",
    "        fill_color='#3186cc',\n",
    "        fill_opacity=0.7,\n",
    "        parse_html=False).add_to(map_toronto)  \n",
    "    \n",
    "map_toronto"
   ]
  },
  {
   "cell_type": "code",
   "execution_count": null,
   "metadata": {},
   "outputs": [],
   "source": []
  }
 ],
 "metadata": {
  "kernelspec": {
   "display_name": "Python 3",
   "language": "python",
   "name": "python3"
  },
  "language_info": {
   "codemirror_mode": {
    "name": "ipython",
    "version": 3
   },
   "file_extension": ".py",
   "mimetype": "text/x-python",
   "name": "python",
   "nbconvert_exporter": "python",
   "pygments_lexer": "ipython3",
   "version": "3.7.3"
  }
 },
 "nbformat": 4,
 "nbformat_minor": 2
}
