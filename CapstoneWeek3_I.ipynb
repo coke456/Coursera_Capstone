{
 "cells": [
  {
   "cell_type": "markdown",
   "metadata": {},
   "source": [
    "# Segmenting and Clustering Neighborhoods in Toronto"
   ]
  },
  {
   "cell_type": "code",
   "execution_count": null,
   "metadata": {},
   "outputs": [],
   "source": [
    "import pandas as pd\n",
    "import requests\n",
    "import lxml.html as lh\n",
    "from urllib.request import urlopen\n",
    "from bs4 import BeautifulSoup"
   ]
  },
  {
   "cell_type": "markdown",
   "metadata": {},
   "source": [
    "Download the url content from wikipedia"
   ]
  },
  {
   "cell_type": "code",
   "execution_count": 3,
   "metadata": {},
   "outputs": [],
   "source": [
    "url = 'https://en.wikipedia.org/wiki/List_of_postal_codes_of_Canada:_M'\n",
    "#page = requests.get(url)\n",
    "#Store the contents of the website under doc\n",
    "html = urlopen(url)\n",
    "soup = BeautifulSoup(html, 'lxml')"
   ]
  },
  {
   "cell_type": "markdown",
   "metadata": {},
   "source": [
    "Use BeautifulSoup library to get the table contents"
   ]
  },
  {
   "cell_type": "code",
   "execution_count": 27,
   "metadata": {},
   "outputs": [],
   "source": [
    "import re\n",
    "# Get rows by looking for tr\n",
    "rows = soup.find_all('tr')\n",
    "\n",
    "# Get cells\n",
    "for row in rows:\n",
    "    row_td = row.find_all('td')\n",
    "    \n",
    "str_cells = str(row_td)\n",
    "cleantext = BeautifulSoup(str_cells, \"lxml\").get_text()\n",
    "\n",
    "list_rows = []\n",
    "for row in rows:\n",
    "    cells = row.find_all('td')\n",
    "    str_cells = str(cells)\n",
    "    clean = re.compile('<.*?>')\n",
    "    clean2 = (re.sub(clean, '',str_cells))\n",
    "    list_rows.append(clean2)"
   ]
  },
  {
   "cell_type": "markdown",
   "metadata": {},
   "source": [
    "Load the table data into a pandas dataframe"
   ]
  },
  {
   "cell_type": "code",
   "execution_count": 28,
   "metadata": {},
   "outputs": [],
   "source": [
    "# Create a data frame with the \"list_rows\"\n",
    "df = pd.DataFrame(list_rows) \n",
    "# Expand in cells separated by commas\n",
    "df = df[0].str.split(',', expand=True)\n",
    "# Remove '[', ']' and '\\n' characters\n",
    "df[0] = df[0].str.strip('[')\n",
    "df[2] = df[2].str.strip(']')\n",
    "df[2] = df[2].str.replace('\\n','')"
   ]
  },
  {
   "cell_type": "markdown",
   "metadata": {},
   "source": [
    "Get Table Header by looking for the 'th' tag"
   ]
  },
  {
   "cell_type": "code",
   "execution_count": 29,
   "metadata": {},
   "outputs": [],
   "source": [
    "# Get table header\n",
    "col_labels = soup.find_all('th')\n",
    "all_header = []\n",
    "col_str = str(col_labels)\n",
    "cleantext2 = BeautifulSoup(col_str, \"lxml\").get_text()\n",
    "all_header.append(cleantext2)"
   ]
  },
  {
   "cell_type": "code",
   "execution_count": 30,
   "metadata": {},
   "outputs": [],
   "source": [
    "# Add headers to a new dataframe\n",
    "df2 = pd.DataFrame(all_header)\n",
    "# Clean headers DF\n",
    "df2 = df2[0].str.split(',', expand=True)\n",
    "df2 = df2.drop([3],axis=1)\n",
    "df2[0] = df2[0].str.strip('[')\n",
    "df2[2] = df2[2].str.replace('\\n','')"
   ]
  },
  {
   "cell_type": "code",
   "execution_count": 31,
   "metadata": {},
   "outputs": [],
   "source": [
    "# Concatenate header df (df2) and contents df (df)\n",
    "frames = [df2, df]\n",
    "df = pd.concat(frames)\n",
    "# set firs row as columns header\n",
    "df = df.rename(columns=df.iloc[0])\n",
    "# get only with the first three columns\n",
    "df = df.iloc[:,0:3]\n",
    "# remove empty spaces\n",
    "df.columns = df.columns.str.lstrip()\n",
    "# remove fist row\n",
    "df=df.drop([0],axis=0)"
   ]
  },
  {
   "cell_type": "markdown",
   "metadata": {},
   "source": [
    "Remove Not assigned rows"
   ]
  },
  {
   "cell_type": "code",
   "execution_count": 32,
   "metadata": {},
   "outputs": [],
   "source": [
    "# Remove Not assigned rows\n",
    "df=df[df.Borough.str.contains('Not assigned')==False]\n",
    "# Remove empty rows\n",
    "df=df[df.Postcode.str.contains('\\n')==False]"
   ]
  },
  {
   "cell_type": "markdown",
   "metadata": {},
   "source": [
    "Combine Neighbourhood columns for rows with same postcode"
   ]
  },
  {
   "cell_type": "code",
   "execution_count": 38,
   "metadata": {},
   "outputs": [],
   "source": [
    "# Combine Neighbourhood columns for rows with same postcode\n",
    "df=df.groupby('Postcode').agg({'Borough': 'first', 'Neighbourhood': lambda x: ','.join(x)})\n",
    "df=df.reset_index()"
   ]
  },
  {
   "cell_type": "markdown",
   "metadata": {},
   "source": [
    "Set neighborhood as borough for the \"Not assigned\" neighborhoods"
   ]
  },
  {
   "cell_type": "code",
   "execution_count": 39,
   "metadata": {},
   "outputs": [],
   "source": [
    "# Set neighborhood as borough for the \"Not assigned\" neighborhoods\n",
    "df.loc[df.Neighbourhood.str.contains('Not assigned'),'Neighbourhood']=df.loc[df.Neighbourhood.str.contains('Not assigned'),'Borough']"
   ]
  },
  {
   "cell_type": "code",
   "execution_count": 40,
   "metadata": {},
   "outputs": [
    {
     "data": {
      "text/html": [
       "<div>\n",
       "<style scoped>\n",
       "    .dataframe tbody tr th:only-of-type {\n",
       "        vertical-align: middle;\n",
       "    }\n",
       "\n",
       "    .dataframe tbody tr th {\n",
       "        vertical-align: top;\n",
       "    }\n",
       "\n",
       "    .dataframe thead th {\n",
       "        text-align: right;\n",
       "    }\n",
       "</style>\n",
       "<table border=\"1\" class=\"dataframe\">\n",
       "  <thead>\n",
       "    <tr style=\"text-align: right;\">\n",
       "      <th></th>\n",
       "      <th>Postcode</th>\n",
       "      <th>Borough</th>\n",
       "      <th>Neighbourhood</th>\n",
       "    </tr>\n",
       "  </thead>\n",
       "  <tbody>\n",
       "    <tr>\n",
       "      <th>0</th>\n",
       "      <td>M1B</td>\n",
       "      <td>Scarborough</td>\n",
       "      <td>Rouge, Malvern</td>\n",
       "    </tr>\n",
       "    <tr>\n",
       "      <th>1</th>\n",
       "      <td>M1C</td>\n",
       "      <td>Scarborough</td>\n",
       "      <td>Highland Creek, Rouge Hill, Port Union</td>\n",
       "    </tr>\n",
       "    <tr>\n",
       "      <th>2</th>\n",
       "      <td>M1E</td>\n",
       "      <td>Scarborough</td>\n",
       "      <td>Guildwood, Morningside, West Hill</td>\n",
       "    </tr>\n",
       "    <tr>\n",
       "      <th>3</th>\n",
       "      <td>M1G</td>\n",
       "      <td>Scarborough</td>\n",
       "      <td>Woburn</td>\n",
       "    </tr>\n",
       "    <tr>\n",
       "      <th>4</th>\n",
       "      <td>M1H</td>\n",
       "      <td>Scarborough</td>\n",
       "      <td>Cedarbrae</td>\n",
       "    </tr>\n",
       "  </tbody>\n",
       "</table>\n",
       "</div>"
      ],
      "text/plain": [
       "  Postcode       Borough                            Neighbourhood\n",
       "0      M1B   Scarborough                           Rouge, Malvern\n",
       "1      M1C   Scarborough   Highland Creek, Rouge Hill, Port Union\n",
       "2      M1E   Scarborough        Guildwood, Morningside, West Hill\n",
       "3      M1G   Scarborough                                   Woburn\n",
       "4      M1H   Scarborough                                Cedarbrae"
      ]
     },
     "execution_count": 40,
     "metadata": {},
     "output_type": "execute_result"
    }
   ],
   "source": [
    "df.head()"
   ]
  },
  {
   "cell_type": "code",
   "execution_count": 41,
   "metadata": {},
   "outputs": [
    {
     "data": {
      "text/plain": [
       "(103, 3)"
      ]
     },
     "execution_count": 41,
     "metadata": {},
     "output_type": "execute_result"
    }
   ],
   "source": [
    "df.shape"
   ]
  },
  {
   "cell_type": "code",
   "execution_count": null,
   "metadata": {},
   "outputs": [],
   "source": []
  }
 ],
 "metadata": {
  "kernelspec": {
   "display_name": "Python 3",
   "language": "python",
   "name": "python3"
  },
  "language_info": {
   "codemirror_mode": {
    "name": "ipython",
    "version": 3
   },
   "file_extension": ".py",
   "mimetype": "text/x-python",
   "name": "python",
   "nbconvert_exporter": "python",
   "pygments_lexer": "ipython3",
   "version": "3.7.3"
  }
 },
 "nbformat": 4,
 "nbformat_minor": 2
}
